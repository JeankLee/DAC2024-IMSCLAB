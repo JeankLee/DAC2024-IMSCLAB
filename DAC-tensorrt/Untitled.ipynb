{
 "cells": [
  {
   "cell_type": "code",
   "execution_count": 5,
   "id": "ac1170dd-a970-43f7-b7df-e6264731cc9f",
   "metadata": {},
   "outputs": [],
   "source": [
    "\n",
    "import tensorrt as trt\n",
    "import numpy as np\n",
    "import os\n",
    "\n",
    "import pycuda.driver as cuda\n",
    "import pycuda.autoinit\n",
    "\n"
   ]
  },
  {
   "cell_type": "code",
   "execution_count": 6,
   "id": "27c70780-94ec-4804-bf36-9d024e5c5eb1",
   "metadata": {},
   "outputs": [],
   "source": [
    "\n",
    "\n",
    "class HostDeviceMem(object):\n",
    "    def __init__(self, host_mem, device_mem):\n",
    "        self.host = host_mem\n",
    "        self.device = device_mem\n",
    "\n",
    "    def __str__(self):\n",
    "        return \"Host:\\n\" + str(self.host) + \"\\nDevice:\\n\" + str(self.device)\n",
    "\n",
    "    def __repr__(self):\n",
    "        return self.__str__()\n"
   ]
  },
  {
   "cell_type": "code",
   "execution_count": 8,
   "id": "0f4c9a1b-a8d9-425a-be41-df943447e22f",
   "metadata": {},
   "outputs": [
    {
     "ename": "SyntaxError",
     "evalue": "closing parenthesis ')' does not match opening parenthesis '[' (2161782617.py, line 59)",
     "output_type": "error",
     "traceback": [
      "\u001b[0;36m  Cell \u001b[0;32mIn[8], line 59\u001b[0;36m\u001b[0m\n\u001b[0;31m    return ([out.host.reshape(batch_size,-1) for out in self.outputs)\u001b[0m\n\u001b[0m                                                                    ^\u001b[0m\n\u001b[0;31mSyntaxError\u001b[0m\u001b[0;31m:\u001b[0m closing parenthesis ')' does not match opening parenthesis '['\n"
     ]
    }
   ],
   "source": [
    "\n",
    "class TrtModel:\n",
    "    \n",
    "    def __init__(self,engine_path,max_batch_size=1,dtype=np.float32):\n",
    "        \n",
    "        self.engine_path = engine_path\n",
    "        self.dtype = dtype\n",
    "        self.logger = trt.Logger(trt.Logger.WARNING)\n",
    "        self.runtime = trt.Runtime(self.logger)\n",
    "        self.engine = self.load_engine(self.runtime, self.engine_path)\n",
    "        self.max_batch_size = max_batch_size\n",
    "        self.inputs, self.outputs, self.bindings, self.stream = self.allocate_buffers()\n",
    "        self.context = self.engine.create_execution_context()\n",
    "\n",
    "                \n",
    "                \n",
    "    @staticmethod\n",
    "    def load_engine(trt_runtime, engine_path):\n",
    "        trt.init_libnvinfer_plugins(None, \"\")             \n",
    "        with open(engine_path, 'rb') as f:\n",
    "            engine_data = f.read()\n",
    "        engine = trt_runtime.deserialize_cuda_engine(engine_data)\n",
    "        return engine\n",
    "    \n",
    "    def allocate_buffers(self):\n",
    "        \n",
    "        inputs = []\n",
    "        outputs = []\n",
    "        bindings = []\n",
    "        stream = cuda.Stream()\n",
    "        \n",
    "        for binding in self.engine:\n",
    "            size = trt.volume(self.engine.get_binding_shape(binding)) * self.max_batch_size\n",
    "            host_mem = cuda.pagelocked_empty(size, self.dtype)\n",
    "            device_mem = cuda.mem_alloc(host_mem.nbytes)\n",
    "            \n",
    "            bindings.append(int(device_mem))\n",
    "\n",
    "            if self.engine.binding_is_input(binding):\n",
    "                inputs.append(HostDeviceMem(host_mem, device_mem))\n",
    "            else:\n",
    "                outputs.append(HostDeviceMem(host_mem, device_mem))\n",
    "        \n",
    "        return inputs, outputs, bindings, stream\n",
    "       \n",
    "            \n",
    "    def __call__(self,x:np.ndarray,batch_size=2):\n",
    "        \n",
    "        x = x.astype(self.dtype)\n",
    "        \n",
    "        np.copyto(self.inputs[0].host,x.ravel())\n",
    "        \n",
    "        for inp in self.inputs:\n",
    "            cuda.memcpy_htod_async(inp.device, inp.host, self.stream)\n",
    "        \n",
    "        self.context.execute_async(batch_size=batch_size, bindings=self.bindings, stream_handle=self.stream.handle)\n",
    "        for out in self.outputs:\n",
    "            cuda.memcpy_dtoh_async(out.host, out.device, self.stream) \n",
    "        self.stream.synchronize()\n",
    "        return [out.host.reshape(batch_size,-1) for out in self.outputs"
   ]
  },
  {
   "cell_type": "code",
   "execution_count": null,
   "id": "2752ddea-02c7-437f-8d17-9cdb70a91d3c",
   "metadata": {},
   "outputs": [],
   "source": [
    "batch_size = 1\n",
    "    trt_engine_path = os.path.join(\"..\",\"models\",\"main.trt\")\n",
    "    model = TrtModel(trt_engine_path)\n",
    "    shape = model.engine.get_binding_shape(0)\n",
    "\n",
    "    \n",
    "    data = np.random.randint(0,255,(batch_size,*shape[1:]))/255\n",
    "    result = model(data,batch_size)"
   ]
  }
 ],
 "metadata": {
  "kernelspec": {
   "display_name": "Python 3 (ipykernel)",
   "language": "python",
   "name": "python3"
  },
  "language_info": {
   "codemirror_mode": {
    "name": "ipython",
    "version": 3
   },
   "file_extension": ".py",
   "mimetype": "text/x-python",
   "name": "python",
   "nbconvert_exporter": "python",
   "pygments_lexer": "ipython3",
   "version": "3.8.10"
  }
 },
 "nbformat": 4,
 "nbformat_minor": 5
}
